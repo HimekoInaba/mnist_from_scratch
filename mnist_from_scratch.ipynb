{
 "cells": [
  {
   "cell_type": "code",
   "execution_count": 1,
   "id": "0312d3cc",
   "metadata": {},
   "outputs": [],
   "source": [
    "!pip install -Uqq fastbook"
   ]
  },
  {
   "cell_type": "code",
   "execution_count": 69,
   "id": "562f5e3f",
   "metadata": {},
   "outputs": [],
   "source": [
    "import fastbook\n",
    "from fastai.vision.all import *\n",
    "from fastbook import *\n",
    "\n",
    "matplotlib.rc('image', cmap='Greys')"
   ]
  },
  {
   "cell_type": "code",
   "execution_count": 3,
   "id": "4f50503c",
   "metadata": {},
   "outputs": [],
   "source": [
    "path = untar_data(URLs.MNIST)"
   ]
  },
  {
   "cell_type": "code",
   "execution_count": 4,
   "id": "1863ec24",
   "metadata": {},
   "outputs": [],
   "source": [
    "Path.BASE_PATH = path"
   ]
  },
  {
   "cell_type": "code",
   "execution_count": 5,
   "id": "fb0565a8",
   "metadata": {},
   "outputs": [
    {
     "data": {
      "text/plain": [
       "(#2) [Path('training'),Path('testing')]"
      ]
     },
     "execution_count": 5,
     "metadata": {},
     "output_type": "execute_result"
    }
   ],
   "source": [
    "path.ls()"
   ]
  },
  {
   "cell_type": "code",
   "execution_count": 6,
   "id": "722029be",
   "metadata": {},
   "outputs": [
    {
     "data": {
      "text/plain": [
       "(#10) [Path('training/6'),Path('training/9'),Path('training/1'),Path('training/3'),Path('training/4'),Path('training/2'),Path('training/8'),Path('training/7'),Path('training/5'),Path('training/0')]"
      ]
     },
     "execution_count": 6,
     "metadata": {},
     "output_type": "execute_result"
    }
   ],
   "source": [
    "(path/'training').ls()"
   ]
  },
  {
   "cell_type": "code",
   "execution_count": 7,
   "id": "5ba1343d",
   "metadata": {},
   "outputs": [
    {
     "data": {
      "text/plain": [
       "(#5923) [Path('training/0/1.png'),Path('training/0/1000.png'),Path('training/0/10005.png'),Path('training/0/10010.png'),Path('training/0/10022.png'),Path('training/0/10025.png'),Path('training/0/10026.png'),Path('training/0/10045.png'),Path('training/0/10069.png'),Path('training/0/10071.png')...]"
      ]
     },
     "execution_count": 7,
     "metadata": {},
     "output_type": "execute_result"
    }
   ],
   "source": [
    "digits = [img.ls().sorted() for img in sorted((path/'training').iterdir())]\n",
    "digits[0]"
   ]
  },
  {
   "cell_type": "code",
   "execution_count": 8,
   "id": "c5891ab5",
   "metadata": {},
   "outputs": [
    {
     "data": {
      "text/plain": [
       "(#980) [Path('testing/0/10.png'),Path('testing/0/1001.png'),Path('testing/0/1009.png'),Path('testing/0/101.png'),Path('testing/0/1034.png'),Path('testing/0/1047.png'),Path('testing/0/1061.png'),Path('testing/0/1084.png'),Path('testing/0/1094.png'),Path('testing/0/1121.png')...]"
      ]
     },
     "execution_count": 8,
     "metadata": {},
     "output_type": "execute_result"
    }
   ],
   "source": [
    "valid_digits = [img.ls().sorted() for img in sorted((path/'testing').iterdir())]\n",
    "valid_digits[0]"
   ]
  },
  {
   "cell_type": "code",
   "execution_count": 9,
   "id": "3f133748",
   "metadata": {},
   "outputs": [
    {
     "data": {
      "image/png": "[encoded data removed]",
      "text/plain": [
       "<PIL.PngImagePlugin.PngImageFile image mode=L size=28x28>"
      ]
     },
     "execution_count": 9,
     "metadata": {},
     "output_type": "execute_result"
    }
   ],
   "source": [
    "im3_path = digits[3][0]\n",
    "im3 = Image.open(im3_path)\n",
    "im3"
   ]
  },
  {
   "cell_type": "code",
   "execution_count": 10,
   "id": "01a3a42e",
   "metadata": {},
   "outputs": [
    {
     "data": {
      "text/plain": [
       "5923"
      ]
     },
     "execution_count": 10,
     "metadata": {},
     "output_type": "execute_result"
    }
   ],
   "source": [
    "len(digits[0])"
   ]
  },
  {
   "cell_type": "code",
   "execution_count": 11,
   "id": "24f44c8c",
   "metadata": {},
   "outputs": [
    {
     "data": {
      "text/plain": [
       "(10, 6265)"
      ]
     },
     "execution_count": 11,
     "metadata": {},
     "output_type": "execute_result"
    }
   ],
   "source": [
    "all_digit_tensors = {}\n",
    "i = 0\n",
    "for digit in digits:\n",
    "    curr_digit_tensors = []\n",
    "    for img in digit:\n",
    "        curr_digit_tensors.append(tensor(Image.open(img)))\n",
    "    all_digit_tensors[i] = curr_digit_tensors\n",
    "    i += 1\n",
    "\n",
    "len(all_digit_tensors),len(all_digit_tensors[7])"
   ]
  },
  {
   "cell_type": "code",
   "execution_count": 12,
   "id": "542915e0",
   "metadata": {},
   "outputs": [
    {
     "data": {
      "text/plain": [
       "(10, 980)"
      ]
     },
     "execution_count": 12,
     "metadata": {},
     "output_type": "execute_result"
    }
   ],
   "source": [
    "# same for valid dataset\n",
    "all_valid_tensors = {}\n",
    "i = 0\n",
    "for valid_digit in valid_digits:\n",
    "    curr_digit_tensors = []\n",
    "    for img in valid_digit:\n",
    "        curr_digit_tensors.append(tensor(Image.open(img)))\n",
    "    all_valid_tensors[i] = curr_digit_tensors\n",
    "    i += 1\n",
    "len(all_valid_tensors),len(all_valid_tensors[0])"
   ]
  },
  {
   "cell_type": "code",
   "execution_count": 13,
   "id": "b80fdd63",
   "metadata": {},
   "outputs": [
    {
     "data": {
      "image/png": "[encoded data removed]",
      "text/plain": [
       "<Figure size 72x72 with 1 Axes>"
      ]
     },
     "metadata": {
      "needs_background": "light"
     },
     "output_type": "display_data"
    },
    {
     "data": {
      "image/png": "[encoded data removed]",
      "text/plain": [
       "<Figure size 72x72 with 1 Axes>"
      ]
     },
     "metadata": {
      "needs_background": "light"
     },
     "output_type": "display_data"
    },
    {
     "data": {
      "image/png": "[encoded data removed]",
      "text/plain": [
       "<Figure size 72x72 with 1 Axes>"
      ]
     },
     "metadata": {
      "needs_background": "light"
     },
     "output_type": "display_data"
    },
    {
     "data": {
      "image/png": "[encoded data removed]",
      "text/plain": [
       "<Figure size 72x72 with 1 Axes>"
      ]
     },
     "metadata": {
      "needs_background": "light"
     },
     "output_type": "display_data"
    },
    {
     "data": {
      "image/png": "[encoded data removed]",
      "text/plain": [
       "<Figure size 72x72 with 1 Axes>"
      ]
     },
     "metadata": {
      "needs_background": "light"
     },
     "output_type": "display_data"
    },
    {
     "data": {
      "image/png": "[encoded data removed]",
      "text/plain": [
       "<Figure size 72x72 with 1 Axes>"
      ]
     },
     "metadata": {
      "needs_background": "light"
     },
     "output_type": "display_data"
    },
    {
     "data": {
      "image/png": "[encoded data removed]",
      "text/plain": [
       "<Figure size 72x72 with 1 Axes>"
      ]
     },
     "metadata": {
      "needs_background": "light"
     },
     "output_type": "display_data"
    },
    {
     "data": {
      "image/png": "[encoded data removed]",
      "text/plain": [
       "<Figure size 72x72 with 1 Axes>"
      ]
     },
     "metadata": {
      "needs_background": "light"
     },
     "output_type": "display_data"
    },
    {
     "data": {
      "image/png": "[encoded data removed]",
      "text/plain": [
       "<Figure size 72x72 with 1 Axes>"
      ]
     },
     "metadata": {
      "needs_background": "light"
     },
     "output_type": "display_data"
    },
    {
     "data": {
      "image/png": "[encoded data removed]",
      "text/plain": [
       "<Figure size 72x72 with 1 Axes>"
      ]
     },
     "metadata": {
      "needs_background": "light"
     },
     "output_type": "display_data"
    }
   ],
   "source": [
    "[show_image(all_digit_tensors[i][0]) for i in range(10)];"
   ]
  },
  {
   "cell_type": "code",
   "execution_count": 14,
   "id": "fb299d00",
   "metadata": {},
   "outputs": [
    {
     "data": {
      "text/plain": [
       "tensor([[  0,   0,   0,   0,   0,   0,   0,   0,   0,   0,   0,   0,   0,   0,   0,   0,   0,   0,   0,   0,   0,   0,   0,   0,   0,   0,   0,   0],\n",
       "        [  0,   0,   0,   0,   0,   0,   0,   0,   0,   0,   0,   0,   0,   0,   0,   0,   0,   0,   0,   0,   0,   0,   0,   0,   0,   0,   0,   0],\n",
       "        [  0,   0,   0,   0,   0,   0,   0,   0,   0,   0,   0,   0,   0,   0,   0,   0,   0,   0,   0,   0,   0,   0,   0,   0,   0,   0,   0,   0],\n",
       "        [  0,   0,   0,   0,   0,   0,   0,   0,   0,   0,   0,   0,   0,   0,   0,   0,   0,   0,   0,   0,   0,   0,   0,   0,   0,   0,   0,   0],\n",
       "        [  0,   0,   0,   0,   0,   0,   0,   0,   0,   0,   0,   0,   0,   0,   0,  51, 159, 253, 159,  50,   0,   0,   0,   0,   0,   0,   0,   0],\n",
       "        [  0,   0,   0,   0,   0,   0,   0,   0,   0,   0,   0,   0,   0,   0,  48, 238, 252, 252, 252, 237,   0,   0,   0,   0,   0,   0,   0,   0],\n",
       "        [  0,   0,   0,   0,   0,   0,   0,   0,   0,   0,   0,   0,   0,  54, 227, 253, 252, 239, 233, 252,  57,   6,   0,   0,   0,   0,   0,   0],\n",
       "        [  0,   0,   0,   0,   0,   0,   0,   0,   0,   0,   0,  10,  60, 224, 252, 253, 252, 202,  84, 252, 253, 122,   0,   0,   0,   0,   0,   0],\n",
       "        [  0,   0,   0,   0,   0,   0,   0,   0,   0,   0,   0, 163, 252, 252, 252, 253, 252, 252,  96, 189, 253, 167,   0,   0,   0,   0,   0,   0],\n",
       "        [  0,   0,   0,   0,   0,   0,   0,   0,   0,   0,  51, 238, 253, 253, 190, 114, 253, 228,  47,  79, 255, 168,   0,   0,   0,   0,   0,   0],\n",
       "        [  0,   0,   0,   0,   0,   0,   0,   0,   0,  48, 238, 252, 252, 179,  12,  75, 121,  21,   0,   0, 253, 243,  50,   0,   0,   0,   0,   0],\n",
       "        [  0,   0,   0,   0,   0,   0,   0,   0,  38, 165, 253, 233, 208,  84,   0,   0,   0,   0,   0,   0, 253, 252, 165,   0,   0,   0,   0,   0],\n",
       "        [  0,   0,   0,   0,   0,   0,   0,   7, 178, 252, 240,  71,  19,  28,   0,   0,   0,   0,   0,   0, 253, 252, 195,   0,   0,   0,   0,   0],\n",
       "        [  0,   0,   0,   0,   0,   0,   0,  57, 252, 252,  63,   0,   0,   0,   0,   0,   0,   0,   0,   0, 253, 252, 195,   0,   0,   0,   0,   0],\n",
       "        [  0,   0,   0,   0,   0,   0,   0, 198, 253, 190,   0,   0,   0,   0,   0,   0,   0,   0,   0,   0, 255, 253, 196,   0,   0,   0,   0,   0],\n",
       "        [  0,   0,   0,   0,   0,   0,  76, 246, 252, 112,   0,   0,   0,   0,   0,   0,   0,   0,   0,   0, 253, 252, 148,   0,   0,   0,   0,   0],\n",
       "        [  0,   0,   0,   0,   0,   0,  85, 252, 230,  25,   0,   0,   0,   0,   0,   0,   0,   0,   7, 135, 253, 186,  12,   0,   0,   0,   0,   0],\n",
       "        [  0,   0,   0,   0,   0,   0,  85, 252, 223,   0,   0,   0,   0,   0,   0,   0,   0,   7, 131, 252, 225,  71,   0,   0,   0,   0,   0,   0],\n",
       "        [  0,   0,   0,   0,   0,   0,  85, 252, 145,   0,   0,   0,   0,   0,   0,   0,  48, 165, 252, 173,   0,   0,   0,   0,   0,   0,   0,   0],\n",
       "        [  0,   0,   0,   0,   0,   0,  86, 253, 225,   0,   0,   0,   0,   0,   0, 114, 238, 253, 162,   0,   0,   0,   0,   0,   0,   0,   0,   0],\n",
       "        [  0,   0,   0,   0,   0,   0,  85, 252, 249, 146,  48,  29,  85, 178, 225, 253, 223, 167,  56,   0,   0,   0,   0,   0,   0,   0,   0,   0],\n",
       "        [  0,   0,   0,   0,   0,   0,  85, 252, 252, 252, 229, 215, 252, 252, 252, 196, 130,   0,   0,   0,   0,   0,   0,   0,   0,   0,   0,   0],\n",
       "        [  0,   0,   0,   0,   0,   0,  28, 199, 252, 252, 253, 252, 252, 233, 145,   0,   0,   0,   0,   0,   0,   0,   0,   0,   0,   0,   0,   0],\n",
       "        [  0,   0,   0,   0,   0,   0,   0,  25, 128, 252, 253, 252, 141,  37,   0,   0,   0,   0,   0,   0,   0,   0,   0,   0,   0,   0,   0,   0],\n",
       "        [  0,   0,   0,   0,   0,   0,   0,   0,   0,   0,   0,   0,   0,   0,   0,   0,   0,   0,   0,   0,   0,   0,   0,   0,   0,   0,   0,   0],\n",
       "        [  0,   0,   0,   0,   0,   0,   0,   0,   0,   0,   0,   0,   0,   0,   0,   0,   0,   0,   0,   0,   0,   0,   0,   0,   0,   0,   0,   0],\n",
       "        [  0,   0,   0,   0,   0,   0,   0,   0,   0,   0,   0,   0,   0,   0,   0,   0,   0,   0,   0,   0,   0,   0,   0,   0,   0,   0,   0,   0],\n",
       "        [  0,   0,   0,   0,   0,   0,   0,   0,   0,   0,   0,   0,   0,   0,   0,   0,   0,   0,   0,   0,   0,   0,   0,   0,   0,   0,   0,   0]], dtype=torch.uint8)"
      ]
     },
     "execution_count": 14,
     "metadata": {},
     "output_type": "execute_result"
    }
   ],
   "source": [
    "all_digit_tensors[0][0]"
   ]
  },
  {
   "cell_type": "code",
   "execution_count": 26,
   "id": "5b68e09c",
   "metadata": {},
   "outputs": [
    {
     "data": {
      "text/plain": [
       "(10, torch.Size([5923, 28, 28]))"
      ]
     },
     "execution_count": 26,
     "metadata": {},
     "output_type": "execute_result"
    }
   ],
   "source": [
    "# stack all digits to a single rank 3 tensor\n",
    "# divide by 255 to make values binary\n",
    "stacked_numbers = {i: torch.stack(digit_tensors).float() / 255 for i, digit_tensors in all_digit_tensors.items()}\n",
    "\n",
    "len(stacked_numbers),stacked_numbers[0].shape"
   ]
  },
  {
   "cell_type": "code",
   "execution_count": 27,
   "id": "5af2e07a",
   "metadata": {},
   "outputs": [
    {
     "data": {
      "text/plain": [
       "(10, torch.Size([980, 28, 28]))"
      ]
     },
     "execution_count": 27,
     "metadata": {},
     "output_type": "execute_result"
    }
   ],
   "source": [
    "# same for valid dataset\n",
    "stacked_valid_digits = {i: torch.stack(valid_tensors).float() / 255 for i, valid_tensors in all_valid_tensors.items()}\n",
    "len(stacked_valid_digits),stacked_valid_digits[0].shape"
   ]
  },
  {
   "cell_type": "code",
   "execution_count": 28,
   "id": "eadf257a",
   "metadata": {},
   "outputs": [
    {
     "data": {
      "text/plain": [
       "(torch.Size([5923, 28, 28]), torch.Size([28, 28]))"
      ]
     },
     "execution_count": 28,
     "metadata": {},
     "output_type": "execute_result"
    }
   ],
   "source": [
    "mean_numbers = {i: digit_tensors.mean(0) for i, digit_tensors in stacked_digits.items()}\n",
    "stacked_digits[0].shape, mean_numbers[0].shape"
   ]
  },
  {
   "cell_type": "code",
   "execution_count": 29,
   "id": "987e8ff1",
   "metadata": {},
   "outputs": [
    {
     "data": {
      "image/png": "[encoded data removed]",
      "text/plain": [
       "<Figure size 2160x216 with 10 Axes>"
      ]
     },
     "metadata": {
      "needs_background": "light"
     },
     "output_type": "display_data"
    }
   ],
   "source": [
    "show_images(list(mean_numbers.values()))"
   ]
  },
  {
   "cell_type": "code",
   "execution_count": 30,
   "id": "32d71225",
   "metadata": {},
   "outputs": [
    {
     "data": {
      "text/plain": [
       "<AxesSubplot:>"
      ]
     },
     "execution_count": 30,
     "metadata": {},
     "output_type": "execute_result"
    },
    {
     "data": {
      "image/png": "[encoded data removed]",
      "text/plain": [
       "<Figure size 72x72 with 1 Axes>"
      ]
     },
     "metadata": {
      "needs_background": "light"
     },
     "output_type": "display_data"
    }
   ],
   "source": [
    "ex_zero = stacked_digits[0][0]\n",
    "show_image(ex_zero)"
   ]
  },
  {
   "cell_type": "code",
   "execution_count": 31,
   "id": "2cc3d422",
   "metadata": {},
   "outputs": [
    {
     "name": "stdout",
     "output_type": "stream",
     "text": [
      "0: 0.14436744153499603\n",
      "1: 0.06666460633277893\n",
      "2: 0.1461019217967987\n",
      "3: 0.13126492500305176\n",
      "4: 0.11998098343610764\n",
      "5: 0.13792230188846588\n",
      "6: 0.125173419713974\n",
      "7: 0.10961710661649704\n",
      "8: 0.13284289836883545\n",
      "9: 0.11311935633420944\n"
     ]
    }
   ],
   "source": [
    "# calculate distance from mean digit for each digit\n",
    "for i in range(10):\n",
    "    mean = mean_numbers[i]\n",
    "    digit = stacked_digits[i]\n",
    "    distance = (digit - mean).abs().mean()\n",
    "    print(f\"{i}: {distance}\")"
   ]
  },
  {
   "cell_type": "code",
   "execution_count": 32,
   "id": "e7b6ed44",
   "metadata": {},
   "outputs": [],
   "source": [
    "def diff(a, b):\n",
    "    return (a - b).abs().mean((-1, -2))"
   ]
  },
  {
   "cell_type": "code",
   "execution_count": 33,
   "id": "395caaad",
   "metadata": {},
   "outputs": [],
   "source": [
    "test_stacked_numbers = {i : torch.stack(valid_tensor).float() / 255 for i, valid_tensor in all_valid_tensors.items()}"
   ]
  },
  {
   "cell_type": "code",
   "execution_count": 34,
   "id": "ae27b460",
   "metadata": {},
   "outputs": [
    {
     "name": "stdout",
     "output_type": "stream",
     "text": [
      "torch.Size([3])\n",
      "Label: 0 had an accuracy of: tensor(0.8153)\n",
      "Label: 1 had an accuracy of: tensor(0.9982)\n",
      "Label: 2 had an accuracy of: tensor(0.4234)\n",
      "Label: 3 had an accuracy of: tensor(0.6089)\n",
      "Label: 4 had an accuracy of: tensor(0.6680)\n",
      "Label: 5 had an accuracy of: tensor(0.3262)\n",
      "Label: 6 had an accuracy of: tensor(0.7871)\n",
      "Label: 7 had an accuracy of: tensor(0.7646)\n",
      "Label: 8 had an accuracy of: tensor(0.4425)\n",
      "Label: 9 had an accuracy of: tensor(0.7760)\n",
      "Overall accuracy: tensor(0.6610)\n"
     ]
    }
   ],
   "source": [
    "print(tensor([1, 2, 3]).shape)\n",
    "accuracies = []\n",
    "for i, stacked in test_stacked_numbers.items():\n",
    "    errs = [diff(stacked, mean_numbers[num]) for num in range(10)]\n",
    "    stacked_errs = torch.stack(errs)\n",
    "    min = stacked_errs.min(0)\n",
    "    acc = (tensor(i) == min.indices).float().mean()\n",
    "    print(\"Label:\", i, \"had an accuracy of:\", acc)\n",
    "    accuracies.append(acc)\n",
    "print(\"Overall accuracy:\", tensor(accuracies).mean())"
   ]
  },
  {
   "cell_type": "code",
   "execution_count": 36,
   "id": "d6b04c00",
   "metadata": {},
   "outputs": [
    {
     "data": {
      "text/plain": [
       "(torch.Size([60000, 784]), torch.Size([60000, 10]))"
      ]
     },
     "execution_count": 36,
     "metadata": {},
     "output_type": "execute_result"
    }
   ],
   "source": [
    "# concatanete 10 rank 3 tensors to a vector of rank 2 tensor\n",
    "train_x = torch.cat([stacked_numbers[i] for i in range(10)]).view(-1, 28*28)\n",
    "# for each of the labels, we create a 1x10 tensor representing the correct label\n",
    "train_y = tensor([[1 if i == num else 0 for i in range(10)] for num, images in all_digit_tensors.items() for _ in range (len(images))])\n",
    "train_x.shape, train_y.shape"
   ]
  },
  {
   "cell_type": "code",
   "execution_count": 38,
   "id": "49d37eb7",
   "metadata": {},
   "outputs": [
    {
     "data": {
      "text/plain": [
       "(torch.Size([784]), tensor([1, 0, 0, 0, 0, 0, 0, 0, 0, 0]))"
      ]
     },
     "execution_count": 38,
     "metadata": {},
     "output_type": "execute_result"
    }
   ],
   "source": [
    "dset = list(zip(train_x, train_y))\n",
    "x, y = dset[0]\n",
    "x.shape, y"
   ]
  },
  {
   "cell_type": "code",
   "execution_count": 39,
   "id": "8b9d2bd3",
   "metadata": {},
   "outputs": [
    {
     "name": "stdout",
     "output_type": "stream",
     "text": [
      "torch.Size([10000, 784]) torch.Size([10000, 10])\n"
     ]
    },
    {
     "data": {
      "text/plain": [
       "(torch.Size([784]), tensor([1, 0, 0, 0, 0, 0, 0, 0, 0, 0]))"
      ]
     },
     "execution_count": 39,
     "metadata": {},
     "output_type": "execute_result"
    }
   ],
   "source": [
    "test_x = torch.cat([stacked_valid_digits[i] for i in range(10)]).view(-1, 28*28)\n",
    "test_y = tensor([[1 if i == num else 0 for i in range(10)] for num, images in all_valid_tensors.items() for _ in range (len(images))])\n",
    "print(test_x.shape, test_y.shape)\n",
    "test_dset = list(zip(test_x, test_y))\n",
    "x, y = test_dset[0]\n",
    "x.shape, y"
   ]
  },
  {
   "cell_type": "code",
   "execution_count": 48,
   "id": "8a503e28",
   "metadata": {},
   "outputs": [],
   "source": [
    "# Creating / Training a Linear Model\n",
    "def init_params(size, std=1.0):\n",
    "    return (torch.randn(size) * std).requires_grad_()\n",
    "\n",
    "weights = init_params((28*28, 10))\n",
    "bias = init_params(10)"
   ]
  },
  {
   "cell_type": "code",
   "execution_count": 49,
   "id": "ff302e4b",
   "metadata": {},
   "outputs": [
    {
     "data": {
      "text/plain": [
       "(tensor([[  1.0994,   1.5071,   3.4678,  ...,  -5.0861,  -4.1259,  11.1209],\n",
       "         [  6.0182,  -8.7752,  -4.8092,  ...,   2.9232,  -1.7839,  -3.8677],\n",
       "         [ -5.5343,   5.5729,  -4.6057,  ...,  -0.6113,  -4.0902,  15.2562],\n",
       "         ...,\n",
       "         [ -3.3576,  -0.7032, -25.5369,  ...,  -0.1770,   0.7605,   4.9850],\n",
       "         [  0.6908,   0.1129,   1.0010,  ...,  -2.7224,   0.8520,   0.5853],\n",
       "         [ -2.2322,  -5.4309, -13.5353,  ...,   0.4094,   3.0625,  10.0834]], grad_fn=<AddBackward0>),\n",
       " torch.Size([60000, 10]))"
      ]
     },
     "execution_count": 49,
     "metadata": {},
     "output_type": "execute_result"
    }
   ],
   "source": [
    "def linear_model(xbatch):\n",
    "    return xbatch @ weights + bias\n",
    "preds = linear_model(train_x)\n",
    "preds, preds.shape"
   ]
  },
  {
   "cell_type": "code",
   "execution_count": 50,
   "id": "c10d3df1",
   "metadata": {},
   "outputs": [],
   "source": [
    "def cross_entropy_loss(xbatch, ybatch):\n",
    "    probs = xbatch.softmax(dim=1)\n",
    "    loss = -(ybatch * probs.log()).sum() / len(probs)\n",
    "    return loss"
   ]
  },
  {
   "cell_type": "code",
   "execution_count": 53,
   "id": "511b8c95",
   "metadata": {},
   "outputs": [
    {
     "data": {
      "text/plain": [
       "(torch.Size([64, 784]), torch.Size([64, 10]))"
      ]
     },
     "execution_count": 53,
     "metadata": {},
     "output_type": "execute_result"
    }
   ],
   "source": [
    "dl = DataLoader(dset, batch_size=64)\n",
    "test_dl = DataLoader(test_dset, batch_size=64)\n",
    "a_batch = first(dl)\n",
    "a_batch[0].shape, a_batch[1].shape"
   ]
  },
  {
   "cell_type": "code",
   "execution_count": 58,
   "id": "e576b217",
   "metadata": {},
   "outputs": [
    {
     "data": {
      "text/plain": [
       "tensor(11.5259, grad_fn=<DivBackward0>)"
      ]
     },
     "execution_count": 58,
     "metadata": {},
     "output_type": "execute_result"
    }
   ],
   "source": [
    "images, labels = a_batch\n",
    "preds = linear_model(images)\n",
    "loss = cross_entropy_loss(preds, labels)\n",
    "loss"
   ]
  },
  {
   "cell_type": "code",
   "execution_count": 59,
   "id": "4bb30606",
   "metadata": {},
   "outputs": [
    {
     "data": {
      "text/plain": [
       "tensor(11.4306, grad_fn=<DivBackward0>)"
      ]
     },
     "execution_count": 59,
     "metadata": {},
     "output_type": "execute_result"
    }
   ],
   "source": [
    "loss.backward()\n",
    "lr = 1e-3\n",
    "weights.data -= weights.grad * lr\n",
    "bias.data -= bias.grad * lr\n",
    "weights.grad.zero_()\n",
    "bias.grad.zero_()\n",
    "preds = linear_model(images)\n",
    "loss = cross_entropy_loss(preds, labels)\n",
    "loss"
   ]
  },
  {
   "cell_type": "code",
   "execution_count": 60,
   "id": "2ba260ff",
   "metadata": {},
   "outputs": [],
   "source": [
    "def calc_grad(xbatch, ybatch, model):\n",
    "    preds = model(xbatch)\n",
    "    loss = cross_entropy_loss(preds, ybatch)\n",
    "    loss.backward()"
   ]
  },
  {
   "cell_type": "code",
   "execution_count": 61,
   "id": "e2a47dce",
   "metadata": {},
   "outputs": [],
   "source": [
    "def batch_accuracy(xpreds, ybatch):\n",
    "    return (xpreds.max(1).indices == ybatch.max(1).indices).float().mean()"
   ]
  },
  {
   "cell_type": "code",
   "execution_count": 62,
   "id": "b713fda0",
   "metadata": {},
   "outputs": [
    {
     "data": {
      "text/plain": [
       "0.187"
      ]
     },
     "execution_count": 62,
     "metadata": {},
     "output_type": "execute_result"
    }
   ],
   "source": [
    "def validate_epoch(model):\n",
    "    accs = [batch_accuracy(model(xbatch), ybatch) for xbatch, ybatch in test_dl]\n",
    "    return round(torch.stack(accs).mean().item(), 4)\n",
    "validate_epoch(linear_model)"
   ]
  },
  {
   "cell_type": "code",
   "execution_count": 63,
   "id": "065e0495",
   "metadata": {},
   "outputs": [],
   "source": [
    "def train_epoch(model, lr, params):\n",
    "    for xbatch, ybatch in dl:\n",
    "        calc_grad(xbatch, ybatch, model)\n",
    "        for p in params:\n",
    "            p.data -= p.grad * lr\n",
    "            p.grad.zero_()"
   ]
  },
  {
   "cell_type": "code",
   "execution_count": 64,
   "id": "ecc64110",
   "metadata": {},
   "outputs": [
    {
     "data": {
      "text/plain": [
       "0.2125"
      ]
     },
     "execution_count": 64,
     "metadata": {},
     "output_type": "execute_result"
    }
   ],
   "source": [
    "lr = 1e-3\n",
    "params = weights, bias\n",
    "train_epoch(linear_model, lr, params)\n",
    "validate_epoch(linear_model)"
   ]
  },
  {
   "cell_type": "code",
   "execution_count": 65,
   "id": "f999512e",
   "metadata": {},
   "outputs": [
    {
     "name": "stdout",
     "output_type": "stream",
     "text": [
      "0.2261 0.2453 0.2726 0.2974 0.323 0.3525 0.3816 0.4081 0.43 0.4486 0.4665 0.4858 0.502 0.5171 0.5308 0.5436 0.5563 0.5707 0.5818 0.591 0.6004 0.6089 0.6168 0.6259 0.6349 0.6433 0.6523 0.6576 0.6635 0.6685 0.6742 0.6792 0.6825 0.6874 0.6921 0.6953 0.6993 0.7036 0.7077 0.711 "
     ]
    }
   ],
   "source": [
    "for i in range(40):\n",
    "    train_epoch(linear_model, lr, params)\n",
    "    print(validate_epoch(linear_model), end= ' ')"
   ]
  },
  {
   "cell_type": "code",
   "execution_count": 66,
   "id": "9a8d0309",
   "metadata": {},
   "outputs": [],
   "source": [
    "# Creating an Optimizer\n",
    "linear_model = nn.Linear(28 * 28, 10)"
   ]
  },
  {
   "cell_type": "code",
   "execution_count": 67,
   "id": "1819e0fe",
   "metadata": {},
   "outputs": [
    {
     "data": {
      "text/plain": [
       "(torch.Size([10, 784]), torch.Size([10]))"
      ]
     },
     "execution_count": 67,
     "metadata": {},
     "output_type": "execute_result"
    }
   ],
   "source": [
    "w, b = linear_model.parameters()\n",
    "w.shape, b.shape"
   ]
  },
  {
   "cell_type": "code",
   "execution_count": 75,
   "id": "93187c33",
   "metadata": {},
   "outputs": [],
   "source": [
    "opt = SGD(linear_model.parameters(), lr)"
   ]
  },
  {
   "cell_type": "code",
   "execution_count": 76,
   "id": "9e5972c3",
   "metadata": {},
   "outputs": [],
   "source": [
    "def train_epoch(model):\n",
    "    for xbatch, ybatch in dl:\n",
    "        calc_grad(xbatch, ybatch, model)\n",
    "        opt.step()\n",
    "        opt.zero_grad()"
   ]
  },
  {
   "cell_type": "code",
   "execution_count": 77,
   "id": "6965ece4",
   "metadata": {},
   "outputs": [],
   "source": [
    "def train_model(model, epochs):\n",
    "    for i in range(epochs):\n",
    "        train_epoch(model)\n",
    "        print(validate_epoch(model), end=' ')"
   ]
  },
  {
   "cell_type": "code",
   "execution_count": 78,
   "id": "b019ce01",
   "metadata": {},
   "outputs": [
    {
     "name": "stdout",
     "output_type": "stream",
     "text": [
      "0.1503 0.384 0.5259 0.6101 0.6714 0.7106 0.7371 0.7622 0.7788 0.7935 0.8035 0.8129 0.8195 0.8268 0.832 0.8372 0.8417 0.8455 0.8495 0.8531 "
     ]
    }
   ],
   "source": [
    "train_model(linear_model, 20)"
   ]
  },
  {
   "cell_type": "code",
   "execution_count": null,
   "id": "b5efef87",
   "metadata": {},
   "outputs": [],
   "source": []
  }
 ],
 "metadata": {
  "kernelspec": {
   "display_name": "Python 3 (ipykernel)",
   "language": "python",
   "name": "python3"
  },
  "language_info": {
   "codemirror_mode": {
    "name": "ipython",
    "version": 3
   },
   "file_extension": ".py",
   "mimetype": "text/x-python",
   "name": "python",
   "nbconvert_exporter": "python",
   "pygments_lexer": "ipython3",
   "version": "3.10.12"
  }
 },
 "nbformat": 4,
 "nbformat_minor": 5
}
